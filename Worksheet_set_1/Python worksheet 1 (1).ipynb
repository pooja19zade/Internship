{
 "cells": [
  {
   "cell_type": "code",
   "execution_count": 7,
   "id": "815a32a5",
   "metadata": {},
   "outputs": [
    {
     "name": "stdout",
     "output_type": "stream",
     "text": [
      "Enter the number: 3\n",
      "The number is Prime\n"
     ]
    }
   ],
   "source": [
    "num = int(input(\"Enter the number: \"))\n",
    "flag = 0\n",
    "for i in range (2, num):\n",
    "    if (num % i == 0):\n",
    "        flag = 1\n",
    "        break\n",
    "\n",
    "if (flag == 0):\n",
    "    print(\"The number is Prime\")\n",
    "else:\n",
    "    print(\"The number is Composite\")"
   ]
  },
  {
   "cell_type": "code",
   "execution_count": 3,
   "id": "ba342ac1",
   "metadata": {},
   "outputs": [
    {
     "name": "stdout",
     "output_type": "stream",
     "text": [
      "Enter the number: 60\n",
      "The factorial of  60  is  8320987112741390144276341183223364380754172606361245952449277696409600000000000000\n"
     ]
    }
   ],
   "source": [
    "fact = 1\n",
    "num = int (input(\"Enter the number: \"))\n",
    "org = num\n",
    "while num > 0:\n",
    "    fact = fact * num\n",
    "    num = num - 1\n",
    "print(\"The factorial of \", org , \" is \",fact)"
   ]
  },
  {
   "cell_type": "code",
   "execution_count": 11,
   "id": "c77a5ac1",
   "metadata": {},
   "outputs": [
    {
     "name": "stdout",
     "output_type": "stream",
     "text": [
      "Enter the number: 121\n",
      "The reverse of  121 is 121\n",
      " The number  121 is Palindrome\n"
     ]
    }
   ],
   "source": [
    "num = int (input(\"Enter the number: \"))\n",
    "org = num\n",
    "rev = 0\n",
    "\n",
    "while num > 0 :\n",
    "    rem = num % 10\n",
    "    rev = rev * 10 + rem\n",
    "    num = num // 10\n",
    "    \n",
    "print(\"The reverse of \", org ,\"is\", rev)    \n",
    "if rev == org:\n",
    "    print(\" The number \", org , \"is Palindrome\")\n",
    "    \n",
    "else:\n",
    "    print (\"The number \", org , \"is not a Palindrome \")\n"
   ]
  },
  {
   "cell_type": "code",
   "execution_count": 1,
   "id": "8e5c803e",
   "metadata": {},
   "outputs": [
    {
     "name": "stdout",
     "output_type": "stream",
     "text": [
      "Input lengths of shorter triangle sides:\n",
      "a: 3\n",
      "b: 4\n",
      "The length of the hypotenuse is: 5.0\n"
     ]
    }
   ],
   "source": [
    "from math import sqrt\n",
    "print(\"Input lengths of shorter triangle sides:\")\n",
    "a = float(input(\"a: \"))\n",
    "b = float(input(\"b: \"))\n",
    "c = sqrt(a**2 + b**2)\n",
    "print(\"The length of the hypotenuse is:\", c )"
   ]
  },
  {
   "cell_type": "code",
   "execution_count": 2,
   "id": "8a675c34",
   "metadata": {},
   "outputs": [
    {
     "name": "stdout",
     "output_type": "stream",
     "text": [
      "Enter the stringASDASDFGHASD\n",
      "{'A': 3, 'S': 3, 'D': 3, 'F': 1, 'G': 1, 'H': 1}\n"
     ]
    }
   ],
   "source": [
    "str1 = input (\"Enter the string\")\n",
    "d1 = dict()\n",
    "for c in str1:\n",
    "    if c in d1:\n",
    "        d1[c] = d1[c] + 1\n",
    "        \n",
    "    else:\n",
    "        d1[c] = 1\n",
    "        \n",
    "print(d1)"
   ]
  },
  {
   "cell_type": "code",
   "execution_count": null,
   "id": "36fa355f",
   "metadata": {},
   "outputs": [],
   "source": []
  }
 ],
 "metadata": {
  "kernelspec": {
   "display_name": "Python 3 (ipykernel)",
   "language": "python",
   "name": "python3"
  },
  "language_info": {
   "codemirror_mode": {
    "name": "ipython",
    "version": 3
   },
   "file_extension": ".py",
   "mimetype": "text/x-python",
   "name": "python",
   "nbconvert_exporter": "python",
   "pygments_lexer": "ipython3",
   "version": "3.9.12"
  }
 },
 "nbformat": 4,
 "nbformat_minor": 5
}
